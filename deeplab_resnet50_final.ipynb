{
  "cells": [
    {
      "cell_type": "markdown",
      "metadata": {
        "id": "view-in-github",
        "colab_type": "text"
      },
      "source": [
        "<a href=\"https://colab.research.google.com/github/yaminipriyakodeboyina/Artificial_Intelligence_miniprojects/blob/master/deeplab_resnet50_final.ipynb\" target=\"_parent\"><img src=\"https://colab.research.google.com/assets/colab-badge.svg\" alt=\"Open In Colab\"/></a>"
      ]
    },
    {
      "cell_type": "code",
      "execution_count": 1,
      "id": "TDyCRy53R_EF",
      "metadata": {
        "id": "TDyCRy53R_EF"
      },
      "outputs": [],
      "source": [
        "from zipfile import ZipFile\n",
        "import torchvision\n",
        "import os\n",
        "from scipy.io import loadmat\n",
        "from sklearn.model_selection import StratifiedShuffleSplit\n",
        "import collections\n",
        "import numpy as np\n",
        "from torch.utils.data import Dataset,DataLoader\n",
        "from torchvision.models.segmentation import fcn_resnet50\n",
        "import torch\n",
        "import torch.nn as nn\n",
        "import torch.optim as optim\n",
        "from torch.autograd import Variable\n",
        "from torchvision.models.segmentation import deeplabv3_resnet50\n",
        "from torchvision.models.segmentation.deeplabv3 import DeepLabHead\n"
      ]
    },
    {
      "cell_type": "code",
      "execution_count": 2,
      "id": "6ewUKJZZR_EH",
      "metadata": {
        "id": "6ewUKJZZR_EH"
      },
      "outputs": [],
      "source": [
        "# # specifying the zip file name\n",
        "# file_name = \"underwater_sem_seg.zip\"\n",
        "# #\n",
        "# # # opening the zip file in READ mode\n",
        "# with ZipFile(file_name, 'r') as zip:\n",
        "#     # printing all the contents of the zip file\n",
        "#     zip.printdir()\n",
        "\n",
        "#     # extracting all the files\n",
        "#     print('Extracting all the files now...')\n",
        "#     zip.extractall()\n",
        "#     print('Done!')\n"
      ]
    },
    {
      "cell_type": "code",
      "execution_count": 3,
      "id": "-8iK6X07SU-6",
      "metadata": {
        "colab": {
          "base_uri": "https://localhost:8080/"
        },
        "id": "-8iK6X07SU-6",
        "outputId": "96bd63bc-be47-46c5-f50b-c011b3a06604"
      },
      "outputs": [
        {
          "output_type": "stream",
          "name": "stdout",
          "text": [
            "Mounted at /content/drive\n"
          ]
        },
        {
          "output_type": "execute_result",
          "data": {
            "text/plain": [
              "['Indiana University Fee Analysis 2020-2021 Cycle March 2021.gsheet',\n",
              " 'Resume_Yamini.pdf',\n",
              " 'Untitled presentation.gslides',\n",
              " 'Colab Notebooks']"
            ]
          },
          "metadata": {},
          "execution_count": 3
        }
      ],
      "source": [
        "from google.colab import drive\n",
        "drive.mount('/content/drive')\n",
        "os.listdir(\"drive/MyDrive\")"
      ]
    },
    {
      "cell_type": "code",
      "execution_count": 4,
      "id": "aGcUGB5GDWcI",
      "metadata": {
        "colab": {
          "base_uri": "https://localhost:8080/"
        },
        "id": "aGcUGB5GDWcI",
        "outputId": "cf5546cf-f3cc-4c78-a6b9-01c57b30199d"
      },
      "outputs": [
        {
          "output_type": "stream",
          "name": "stdout",
          "text": [
            "Drive already mounted at /content/drive; to attempt to forcibly remount, call drive.mount(\"/content/drive\", force_remount=True).\n"
          ]
        }
      ],
      "source": [
        "from google.colab import drive\n",
        "drive.mount('/content/drive')"
      ]
    },
    {
      "cell_type": "code",
      "execution_count": 5,
      "id": "lT-daBhrSbHG",
      "metadata": {
        "id": "lT-daBhrSbHG"
      },
      "outputs": [],
      "source": [
        "# # specifying the zip file name\n",
        "# file_name = \"underwater_sem_seg.zip\"\n",
        "# #\n",
        "# # # opening the zip file in READ mode\n",
        "# with ZipFile(\"drive/MyDrive/underwater_sem_seg.zip\", 'r') as zip:\n",
        "#     # printing all the contents of the zip file\n",
        "#     # zip.printdir()\n",
        "\n",
        "#     # extracting all the files\n",
        "#     print('Extracting all the files now...')\n",
        "#     zip.extractall()\n",
        "#     print('Done!')"
      ]
    },
    {
      "cell_type": "code",
      "execution_count": 6,
      "id": "QA288I7VR_EJ",
      "metadata": {
        "colab": {
          "base_uri": "https://localhost:8080/"
        },
        "id": "QA288I7VR_EJ",
        "outputId": "2c473cbb-24e3-4873-fb1b-12a6d4a6fc2d"
      },
      "outputs": [
        {
          "output_type": "stream",
          "name": "stdout",
          "text": [
            "['squid_sem_seg_gt', 'whale_sem_seg_gt', 'star_fish_sem_seg_gt', 'nudibranch_sem_seg_gt', 'sea_urchin_sem_seg_gt', 'stingray_sem_seg_gt', 'dolphin_sem_seg_gt', 'crocodile_sem_seg_gt', 'shark_sem_seg_gt', 'otter_sem_seg_gt', 'seal_sem_seg_gt', 'frog_sem_seg_gt', 'turtle_sem_seg_gt', 'seahorse_sem_seg_gt', 'nettles_sem_seg_gt', 'penguin_sem_seg_gt', 'polar_bear_sem_seg_gt', 'octopus_sem_seg_gt', 'sea_anemone_sem_seg_gt', 'crab_sem_seg_gt', 'shrimp_sem_seg_gt']\n",
            "['squid_sem_seg_gt', 'whale_sem_seg_gt', 'star_fish_sem_seg_gt', 'nudibranch_sem_seg_gt', 'sea_urchin_sem_seg_gt', 'stingray_sem_seg_gt', 'dolphin_sem_seg_gt', 'crocodile_sem_seg_gt', 'shark_sem_seg_gt', 'otter_sem_seg_gt', 'seal_sem_seg_gt', 'frog_sem_seg_gt', 'turtle_sem_seg_gt', 'seahorse_sem_seg_gt', 'nettles_sem_seg_gt', 'penguin_sem_seg_gt', 'polar_bear_sem_seg_gt', 'octopus_sem_seg_gt', 'sea_anemone_sem_seg_gt', 'crab_sem_seg_gt', 'shrimp_sem_seg_gt']\n",
            "['drive/MyDrive/Colab Notebooks/dataset/whale_sem_seg_gt', 'drive/MyDrive/Colab Notebooks/dataset/star_fish_sem_seg_gt', 'drive/MyDrive/Colab Notebooks/dataset/nudibranch_sem_seg_gt', 'drive/MyDrive/Colab Notebooks/dataset/sea_urchin_sem_seg_gt', 'drive/MyDrive/Colab Notebooks/dataset/stingray_sem_seg_gt', 'drive/MyDrive/Colab Notebooks/dataset/dolphin_sem_seg_gt', 'drive/MyDrive/Colab Notebooks/dataset/crocodile_sem_seg_gt', 'drive/MyDrive/Colab Notebooks/dataset/shark_sem_seg_gt', 'drive/MyDrive/Colab Notebooks/dataset/otter_sem_seg_gt', 'drive/MyDrive/Colab Notebooks/dataset/seal_sem_seg_gt', 'drive/MyDrive/Colab Notebooks/dataset/frog_sem_seg_gt', 'drive/MyDrive/Colab Notebooks/dataset/turtle_sem_seg_gt', 'drive/MyDrive/Colab Notebooks/dataset/seahorse_sem_seg_gt', 'drive/MyDrive/Colab Notebooks/dataset/nettles_sem_seg_gt', 'drive/MyDrive/Colab Notebooks/dataset/penguin_sem_seg_gt', 'drive/MyDrive/Colab Notebooks/dataset/polar_bear_sem_seg_gt', 'drive/MyDrive/Colab Notebooks/dataset/octopus_sem_seg_gt', 'drive/MyDrive/Colab Notebooks/dataset/sea_anemone_sem_seg_gt', 'drive/MyDrive/Colab Notebooks/dataset/crab_sem_seg_gt', 'drive/MyDrive/Colab Notebooks/dataset/shrimp_sem_seg_gt']\n"
          ]
        }
      ],
      "source": [
        "root = \"drive/MyDrive/Colab Notebooks/dataset\"\n",
        "\n",
        "entries = os.listdir(root)\n",
        "# entries.remove(\"indices_files\")\n",
        "entries.remove('.DS_Store')\n",
        "print(entries)\n",
        "print(entries)\n",
        "folders = [root+\"/\"+i for i in entries[1:]]\n",
        "print(folders)\n",
        "# entries = os.listdir(folders[0])\n",
        "# print(entries)\n",
        "images = []\n",
        "masks = []\n",
        "imclasses = []\n",
        "for folder in folders:\n",
        "    entries = os.listdir(folder)\n",
        "    for image_data in entries:\n",
        "#         print(folder+\"/\"+image_data)\n",
        "        mat = loadmat(folder+\"/\"+image_data)\n",
        "        # print(mat)\n",
        "        images.append(np.asarray(mat[\"image_array\"]))\n",
        "        imclasses.append(mat[\"class\"])\n",
        "        masks.append(np.asarray(mat[\"mask_array\"]))\n",
        "        # images.append((imclass,image,mask_array))\n",
        "    # break\n"
      ]
    },
    {
      "cell_type": "code",
      "execution_count": 7,
      "id": "yqvmmA0EWh-S",
      "metadata": {
        "id": "yqvmmA0EWh-S"
      },
      "outputs": [],
      "source": [
        "randn = list(np.random.randint(low = 0,high=544,size=200))\n",
        "for i in randn:\n",
        "  im = images[i]\n",
        "  target = masks[i]\n",
        "  class_ = imclasses[i]\n",
        "  imclasses.append(class_)\n",
        "  # perform horizontal flip\n",
        "  images.append(np.fliplr(im))\n",
        "  masks.append(np.fliplr(target))\n",
        "\n",
        "#shift right\n",
        "randn = list(np.random.randint(low = 0,high=544,size=100))\n",
        "for i in randn:\n",
        "  shift = 20\n",
        "  im = images[i]\n",
        "  target = masks[i]\n",
        "  class_ = imclasses[i]\n",
        "  imclasses.append(class_)\n",
        "\n",
        "  im[:, shift:] = im[:, :-shift]\n",
        "  target[:, shift:] = target[:, :-shift]\n",
        "  images.append(im)\n",
        "  masks.append(target)\n",
        "\n",
        "\n",
        "#shift left\n",
        "randn = list(np.random.randint(low = 0,high=544,size=100))\n",
        "for i in randn:\n",
        "  shift = 20\n",
        "  im = images[i]\n",
        "  target = masks[i]\n",
        "  class_ = imclasses[i]\n",
        "  imclasses.append(class_)\n",
        "\n",
        "  im[:, :-shift] = im[:, shift:]\n",
        "  target[:, :-shift]= target[:, shift:]\n",
        "  images.append(im)\n",
        "  masks.append(target)\n",
        "\n",
        "\n",
        "#shift up\n",
        "randn = list(np.random.randint(low = 0,high=544,size=100))\n",
        "for i in randn:\n",
        "  shift = 20\n",
        "  im = images[i]\n",
        "  target = masks[i]\n",
        "  class_ = imclasses[i]\n",
        "  imclasses.append(class_)\n",
        "\n",
        "  im[:-shift, :] = im[shift:, :]\n",
        "  target[:-shift, :] = target[shift:, :]\n",
        "  images.append(im)\n",
        "  masks.append(target)\n",
        "\n",
        "\n",
        "#shift down\n",
        "randn = list(np.random.randint(low = 0,high=544,size=100))\n",
        "for i in randn:\n",
        "  shift = 20\n",
        "  im = images[i]\n",
        "  target = masks[i]\n",
        "  class_ = imclasses[i]\n",
        "  imclasses.append(class_)\n",
        "\n",
        "  im[shift:, :] = im[:-shift,:]\n",
        "  target[shift:, :] = target[:-shift,:]\n",
        "  images.append(im)\n",
        "  masks.append(target)\n"
      ]
    },
    {
      "cell_type": "code",
      "execution_count": 8,
      "id": "s4dsihjRR_EJ",
      "metadata": {
        "colab": {
          "base_uri": "https://localhost:8080/"
        },
        "id": "s4dsihjRR_EJ",
        "outputId": "3ffc0ad8-fef4-40ea-96d7-90a2afbfa833"
      },
      "outputs": [
        {
          "output_type": "stream",
          "name": "stdout",
          "text": [
            "[ 832  339  839 ...  720  346 1027] [ 108  472  743 1098  593 1028   27 1120 1111  583 1064  779 1107  648\n",
            "   32 1089  231  719  503  193 1087  168  523   24  840 1117  732  617\n",
            " 1114  672  364 1127  452  662  122  268  467  632  213  359  466  477\n",
            "  300 1103  864   40  139  447  294  571  963  398  496   96  696  234\n",
            "  366  221  533   83  407   51  162  133  556  531  679  417  287  302\n",
            "  752  932   73  546  150  147 1007  669  226  178  959  341  577  305\n",
            "  196   65  227   15   34 1143 1109  905  390    1  277  246  344   41\n",
            "  907  518  237  954  373  900  774 1133  282  816  430  434  730   47\n",
            " 1140  342  112]\n",
            "1030 115\n"
          ]
        }
      ],
      "source": [
        "\n",
        "split = StratifiedShuffleSplit(n_splits = 1, test_size = 0.1)\n",
        "\n",
        "for train_index, test_index in split.split(images,imclasses):\n",
        "    print(train_index,test_index)\n",
        "    images_train = [images[i] for i in train_index]\n",
        "    classes_train = [imclasses[i] for i in train_index]\n",
        "    masks_train = [masks[i] for i in train_index]\n",
        "\n",
        "    images_test = [images[i] for i in test_index]\n",
        "    classes_test = [imclasses[i] for i in test_index]\n",
        "    masks_test = [masks[i] for i in test_index]\n",
        "\n",
        "print(len(images_train),len(images_test))"
      ]
    },
    {
      "cell_type": "code",
      "execution_count": 9,
      "id": "4Dq-ygYLR_EK",
      "metadata": {
        "id": "4Dq-ygYLR_EK"
      },
      "outputs": [],
      "source": [
        "class myDataset(Dataset):\n",
        "    def __init__(self,input_data,mask,transform, transform_label):\n",
        "        self.input=input_data\n",
        "        self.mask = mask\n",
        "        self.transforms = transform\n",
        "        self.transforms_label = transform_label\n",
        "\n",
        "\n",
        "    def __len__(self):\n",
        "        return len(self.input)\n",
        "\n",
        "    def __getitem__(self, index):\n",
        "        x=self.input[index]\n",
        "        z=self.mask[index]\n",
        "#         print(x,z)\n",
        "        if self.transforms is not None:\n",
        "            # apply the transformations to both image and its mask\n",
        "            x = self.transforms(x)\n",
        "            z = self.transforms_label(z)\n",
        "            z = torch.tensor(np.asarray(z))\n",
        "            z[z == 31] = 0\n",
        "        return x,z\n",
        "\n",
        "class hyperparam:\n",
        "    num_classes=31\n",
        "    num_workers=5\n",
        "    bs=20\n",
        "    epochs = 150\n",
        "    HEIGHT= 256\n",
        "    WIDTH = 256\n",
        "# params = {shuffle=True,\"batch_size\" : hyperparam.bs, \"num_workers\":num_workers=os.cpu_count() ,\"pin_memory\" : False}\n"
      ]
    },
    {
      "cell_type": "code",
      "execution_count": 10,
      "id": "4j77gCgsR_EK",
      "metadata": {
        "id": "4j77gCgsR_EK"
      },
      "outputs": [],
      "source": [
        "from torchvision import transforms\n",
        "import torchvision.transforms.functional as F\n",
        "from torchvision.transforms import InterpolationMode as interpolate\n",
        "\n",
        "transforms_image = transforms.Compose([transforms.ToPILImage(),transforms.Resize((hyperparam.HEIGHT,hyperparam.WIDTH)),transforms.ToTensor(),transforms.Normalize(mean=[0.485,0.456,0.406],std=[0.229,0.224,0.225])])\n",
        "transforms_label = transforms.Compose([transforms.ToPILImage(),transforms.Resize((256,256), interpolate.NEAREST)])\n",
        "#transforms.Resize((hyperparam.HEIGHT,hyperparam.WIDTH)),transforms.CenterCrop(256),\n",
        "training_set = myDataset(images_train,masks_train,transforms_image,transforms_label)\n",
        "test_set = myDataset(images_test,masks_test,transforms_image,transforms_label)\n",
        "\n",
        "train_gen = DataLoader(training_set,shuffle=True,batch_size=hyperparam.bs, pin_memory=False,num_workers=os.cpu_count())\n",
        "test_gen = DataLoader(test_set,shuffle=False,batch_size=hyperparam.bs, pin_memory=False,num_workers=os.cpu_count())"
      ]
    },
    {
      "cell_type": "code",
      "execution_count": 11,
      "id": "a7iOMPdlR_EL",
      "metadata": {
        "id": "a7iOMPdlR_EL"
      },
      "outputs": [],
      "source": [
        "class MyDeepLab(nn.Module):\n",
        "    def __init__(self, num_classes, \n",
        "                 pretrained=True, \n",
        "                 criterion=nn.CrossEntropyLoss(ignore_index=255),\n",
        "                 network_name='resnet50',\n",
        "                 training=False):                    \n",
        "        super(MyDeepLab, self).__init__()\n",
        "        \n",
        "        self.num_classes   = num_classes\n",
        "        self.criterion     = criterion\n",
        "        self.backbone_name = network_name\n",
        "        self.training      = training        \n",
        "        \n",
        "        if pretrained:\n",
        "            net = deeplabv3_resnet50(pretrained=pretrained,                             \n",
        "                            pretrained_backbone= True)\n",
        "                \n",
        "        #self.classifier = nn.Sequential(*[net.classifier[i] for i in range(5)])\n",
        "        \n",
        "        self.backbone   = net.backbone\n",
        "        #self.classifier = nn.Sequential(*list(net.classifier.children())[:-1])  \n",
        "        self.classifier = DeepLabHead(2048,512)\n",
        "#         self.last_layer = nn.Conv2d(512, num_classes, kernel_size=(1, 1), stride=(1, 1))\n",
        "#         self.upsample1 = nn.ConvTranspose2d(num_classes, num_classes, (4,4), stride=4)\n",
        "#         self.upsample2 = nn.ConvTranspose2d(num_classes, num_classes, (2,2), stride=2)\n",
        "        self.relu    = nn.ReLU(inplace=True)\n",
        "        self.deconv1 = nn.ConvTranspose2d(512, 512, kernel_size=3, stride=2, padding=1, dilation=1, output_padding=1)\n",
        "        self.bn1     = nn.BatchNorm2d(512)\n",
        "        self.deconv2 = nn.ConvTranspose2d(512, 256, kernel_size=3, stride=2, padding=1, dilation=1, output_padding=1)\n",
        "        self.bn2     = nn.BatchNorm2d(256)\n",
        "        self.deconv3 = nn.ConvTranspose2d(256, 128, kernel_size=3, stride=2, padding=1, dilation=1, output_padding=1)\n",
        "        self.bn3     = nn.BatchNorm2d(128)\n",
        "        \n",
        "        self.deconv4 = nn.ConvTranspose2d(128, 64, kernel_size=3, stride=2, padding=1, dilation=1, output_padding=1)\n",
        "        self.bn4     = nn.BatchNorm2d(64)\n",
        "        self.deconv5 = nn.ConvTranspose2d(64, 32, kernel_size=1, stride=1, padding=0, dilation=1, output_padding=0)\n",
        "        self.bn5     = nn.BatchNorm2d(32)\n",
        "        self.final = nn.Conv2d(32, num_classes, kernel_size=1)\n",
        "        \n",
        "        '''if self.training:\n",
        "            self.aux_classifier = nn.Sequential(*list(net.aux_classifier.children())[:-1])        \n",
        "            self.aux_last_layer = nn.Conv2d(512, num_classes, kernel_size=(1, 1), stride=(1, 1))\n",
        "            '''\n",
        "\n",
        "        \n",
        "    def forward(self, x):\n",
        "        \n",
        "        x = self.backbone(x)\n",
        "        x = x['out'] # the other key in the ordered dictionary is 'aux'\n",
        "        #print(\"deeplab out size\",x.size())\n",
        "        #pdb.set_trace()\n",
        "        x = self.classifier(x)\n",
        "#         x = self.last_layer(x) \n",
        "#         x = self.upsample1(x)\n",
        "#         x = self.upsample2(x)\n",
        "        # element-wise add, size=(N, 512, x.H/16, x.W/16)\n",
        "        score = self.relu(self.deconv2(self.bn1(x)))            # size=(2, 256, x.H/4, x.W/4)\n",
        "        score = self.bn2(score) \n",
        "        score = self.bn3(self.relu(self.deconv3(score)))  # size=(N, 128, x.H/2, x.W/2)\n",
        "        score = self.bn4(self.relu(self.deconv4(score)))  # size=(N, 64, x.H/2, x.W/2)\n",
        "        score = self.bn5(self.relu(self.deconv5(score)))  # size=(N, 32, x.H, x.W)\n",
        "        score = self.final(score)                    # size=(N, n_class, x.H/1, x.W/1)\n",
        "        if self.training:\n",
        "#             pdb.set_trace()\n",
        "#             main_loss = self.criterion(x, y)\n",
        "            return score\n",
        "\n",
        "            #aux       = self.aux_classifier(x_tmp)        \n",
        "            #aux_loss  = self.criterion(aux, y)\n",
        "            #return x.max(1)[1], main_loss, aux_loss\n",
        "            \n",
        "        else:\n",
        "            return score            \n"
      ]
    },
    {
      "cell_type": "code",
      "execution_count": 12,
      "id": "nDFCbifQR_EM",
      "metadata": {
        "colab": {
          "base_uri": "https://localhost:8080/",
          "height": 66,
          "referenced_widgets": [
            "c22449a7a14d43beb1bb7717b51bd1a4",
            "40d4f9246e3b4574807d1dfd8325a7df",
            "56403cf3e4ee453e9cf7fc6b17b07599",
            "0d243387ea9e4dadaf0750c12a83772f",
            "e792689f47aa4a9f9b6731155f2a34b2",
            "c13142b4b1f04d1bad0a53847eeab835",
            "397c39725c1840de93899dcec6648cb6",
            "fb0b594fb3dc49439abffb5e5a4ff293",
            "ff76a1da28f34e238e0bbd604901b4c1",
            "00d0e13c09a64fe4be23bf087734c84d",
            "d750ea3872b740d081d2dba4de5aa673"
          ]
        },
        "id": "nDFCbifQR_EM",
        "outputId": "bcfe56e0-2ea3-424d-a483-f983b2fa5a31"
      },
      "outputs": [
        {
          "output_type": "stream",
          "name": "stderr",
          "text": [
            "Downloading: \"https://download.pytorch.org/models/deeplabv3_resnet50_coco-cd0a2569.pth\" to /root/.cache/torch/hub/checkpoints/deeplabv3_resnet50_coco-cd0a2569.pth\n"
          ]
        },
        {
          "output_type": "display_data",
          "data": {
            "text/plain": [
              "  0%|          | 0.00/161M [00:00<?, ?B/s]"
            ],
            "application/vnd.jupyter.widget-view+json": {
              "version_major": 2,
              "version_minor": 0,
              "model_id": "c22449a7a14d43beb1bb7717b51bd1a4"
            }
          },
          "metadata": {}
        }
      ],
      "source": [
        "# model = fcn_resnet50(pretrained=False, progress=False,num_classes=31,pretrained_backbone= True)\n",
        "# model = model.train(True)\n",
        "# model\n",
        "\n",
        "model = MyDeepLab(num_classes = 31)\n"
      ]
    },
    {
      "cell_type": "code",
      "execution_count": 13,
      "id": "_N4hdn60R_EM",
      "metadata": {
        "id": "_N4hdn60R_EM"
      },
      "outputs": [],
      "source": [
        "lossfunc = nn.CrossEntropyLoss()\n",
        "# lossfunc = nn.BCEWithLogitsLoss()\n",
        "optimizer = optim.SGD(model.parameters(),lr = 0.1, weight_decay = 0.0001)\n",
        "# scheduler = optim.lr_scheduler.ReduceLROnPlateau(optimizer,factor = 0.0001)\n",
        "\n"
      ]
    },
    {
      "cell_type": "code",
      "execution_count": 14,
      "id": "SUhymMbcR_EM",
      "metadata": {
        "id": "SUhymMbcR_EM"
      },
      "outputs": [],
      "source": [
        "classes = [\"other\",\"crab\",\"crocodile\",\"dolphin\",\"frog\",\"nettles\",\"octopus\",\"otter\",\"penguin\",\"polar_bear\",\"sea_anemone\",\"sea_urchin\",\"seahorse\",\"seal\",\"shark\",\"shrimp\",\"star_fish\",\"stingray\",\"squid\",\"turtle\",\"whale\",\"nudibranch\",\"coral\",\"rock\",\"water\",\"sand\",\"plant\",\"human\",\"iceberg\",\"reef\",\"fish\"]\n",
        "\n",
        "sem_class_to_idx = {cls: idx for (idx,cls) in enumerate(classes)}\n",
        "# sem_class_to_idx"
      ]
    },
    {
      "cell_type": "code",
      "execution_count": 15,
      "id": "-XqHrx-tXkN3",
      "metadata": {
        "colab": {
          "base_uri": "https://localhost:8080/"
        },
        "id": "-XqHrx-tXkN3",
        "outputId": "4c7c6ea2-142c-43e8-e2ad-5dd724a0f0bb"
      },
      "outputs": [
        {
          "output_type": "execute_result",
          "data": {
            "text/plain": [
              "True"
            ]
          },
          "metadata": {},
          "execution_count": 15
        }
      ],
      "source": [
        "torch.cuda.is_available()"
      ]
    },
    {
      "cell_type": "code",
      "execution_count": 16,
      "id": "IpDPs1lXwUZ6",
      "metadata": {
        "colab": {
          "base_uri": "https://localhost:8080/"
        },
        "id": "IpDPs1lXwUZ6",
        "outputId": "89db9edb-2619-4646-e33c-4ec90e2a5fd0"
      },
      "outputs": [
        {
          "output_type": "execute_result",
          "data": {
            "text/plain": [
              "device(type='cuda', index=0)"
            ]
          },
          "metadata": {},
          "execution_count": 16
        }
      ],
      "source": [
        "device = torch.device(\"cuda:0\" if torch.cuda.is_available() else \"cpu\")\n",
        "device"
      ]
    },
    {
      "cell_type": "code",
      "execution_count": 17,
      "id": "TolYD0eiR_EM",
      "metadata": {
        "id": "TolYD0eiR_EM"
      },
      "outputs": [],
      "source": [
        "# training_total_loss=[]\n",
        "\n",
        "import torchvision.transforms.functional as F\n",
        "\n",
        "def training(model): \n",
        "    model.to(device)\n",
        "    temp_train = 0\n",
        "    training_loss=0\n",
        "    model.train(True)\n",
        "#     print(\"here\")\n",
        "    with torch.set_grad_enabled(True):\n",
        "#     print(\"here1\")\n",
        "        for batch,labels in train_gen:\n",
        "    #             print(\"here2\")\n",
        "            batch=batch.float().to(device)\n",
        "    #             print(\"batch size\", batch.size())\n",
        "    #             batch,label=Variable(batch,requires_grad=True),Variable(labels,requires_grad=True)\n",
        "    #             print(batch,label)\n",
        "    #         batch = F.normalize(batch,mean=[0.485,0.456,0.406],std=[0.229,0.224,0.225])\n",
        "    #             labels = torch.nn.functional.softmax(labels,dim =1)\n",
        "\n",
        "            predictions=model(batch)\n",
        "            labels=labels.to(device)\n",
        "#             print(\"predictions.requires_grad\",predictions.requires_grad)\n",
        "#             numpy_predictions = predictions.detach().numpy()\n",
        "#             np.argmax(numpy_predictions,axis = 1)\n",
        "#             npred = torch.tensor(numpy_predictions)\n",
        "#             print(npred.size())\n",
        "            # npred = torch.softmax(predictions,dim=1)\n",
        "            predicted_masks=torch.softmax(predictions,dim=1).type(torch.float)\n",
        "#             print(\"npred.requires_grad\",npred.requires_grad)\n",
        "            # labels = labels.squeeze(1).to(device)\n",
        "            pred_loss = lossfunc(predicted_masks,labels.long()) \n",
        "#             print(\"pred_loss\",pred_loss)\n",
        "            temp_train  += pred_loss * hyperparam.bs\n",
        "#             print(pred_loss)\n",
        "#             print(\"pred_loss.requires_grad\",pred_loss.requires_grad)\n",
        "#             print(\"pred_loss\",pred_loss)\n",
        "            optimizer.zero_grad()\n",
        "            pred_loss.backward()\n",
        "            optimizer.step()\n",
        "#             print(\"pred_loss\",pred_loss)\n",
        "        \n",
        "    training_loss = temp_train / len(train_gen.dataset)\n",
        "    print(\"Training avg loss = \",training_loss)\n",
        "    return training_loss"
      ]
    },
    {
      "cell_type": "code",
      "execution_count": 18,
      "id": "om2wHrciR_EN",
      "metadata": {
        "id": "om2wHrciR_EN",
        "scrolled": true
      },
      "outputs": [],
      "source": [
        "\n",
        "def validate(model):\n",
        "    testing_avg_loss=0\n",
        "    testing_loss=0\n",
        "    model.to(device)\n",
        "#     print(\"here\")\n",
        "    with torch.set_grad_enabled(False):\n",
        "        model.eval()\n",
        "#         print(\"here1\")\n",
        "        for batch,labels in test_gen:\n",
        "    #             print(\"here2\")\n",
        "            batch=batch.float().to(device)\n",
        "#             batch = F.normalize(batch,mean=[0.485,0.456,0.406],std=[0.229,0.224,0.225])\n",
        "            predictions=model(batch)\n",
        "            # npred = torch.softmax(predictions,dim=1)\n",
        "            predicted_masks=torch.softmax(predictions,dim=1).type(torch.float)\n",
        "            labels = labels.to(device)\n",
        "            pred_loss = lossfunc(predicted_masks,labels.long()) \n",
        "            testing_loss += pred_loss * hyperparam.bs\n",
        "            \n",
        "        testing_avg_loss = testing_loss/len(test_gen.dataset)\n",
        "        print(\"Test avg loss = \",testing_avg_loss)\n",
        "        return testing_avg_loss\n"
      ]
    },
    {
      "cell_type": "code",
      "execution_count": 19,
      "id": "k4Irac52R_EN",
      "metadata": {
        "id": "k4Irac52R_EN"
      },
      "outputs": [],
      "source": [
        "def Calculate_mIOU(output,target):\n",
        "    #flatten the tensor to 1-D arrays\n",
        "    k=31\n",
        "    output = output.flatten().clone()\n",
        "    target = target.flatten()\n",
        "    intersection = output[np.where(output == target)[0]]\n",
        "    area_intersection, _ = np.histogram(intersection,bins=np.arange(k+1))\n",
        "    area_output,_=np.histogram(output,bins=np.arange(k+1))\n",
        "    area_target,_=np.histogram(target,bins=np.arange(k+1))\n",
        "    area_union=area_output+area_target-area_intersection\n",
        "    return area_intersection,area_union,area_target"
      ]
    },
    {
      "cell_type": "code",
      "execution_count": 20,
      "id": "fP_EEWsXR_EO",
      "metadata": {
        "id": "fP_EEWsXR_EO"
      },
      "outputs": [],
      "source": [
        "class calculate():\n",
        "    def __init__(self):\n",
        "        self.intersection_sum=0\n",
        "        self.union_sum=0\n",
        "        self.target_sum=0\n",
        "        self.count=0\n",
        "    def add(self,output,target):\n",
        "        area_intersection,area_union,area_target=Calculate_mIOU(output,target)\n",
        "        self.intersection_sum+=area_intersection\n",
        "        self.union_sum+=area_union\n",
        "        self.target_sum+=area_target\n",
        "        self.count+=1\n",
        "    def calculate_accuracy(self):\n",
        "        accuracy= sum(self.intersection_sum)/sum(self.target_sum + 1e-10)\n",
        "        maccuracy=np.mean(self.intersection_sum/(self.target_sum + 1e-10))\n",
        "        iou = self.intersection_sum/(self.target_sum + 1e-10)\n",
        "        miou=np.mean(iou)\n",
        "        return miou,maccuracy,accuracy"
      ]
    },
    {
      "cell_type": "code",
      "execution_count": 20,
      "id": "0GyfUgTvR_EO",
      "metadata": {
        "id": "0GyfUgTvR_EO"
      },
      "outputs": [],
      "source": [
        ""
      ]
    },
    {
      "cell_type": "code",
      "execution_count": 21,
      "id": "QM-CGX6HR_EP",
      "metadata": {
        "colab": {
          "base_uri": "https://localhost:8080/"
        },
        "id": "QM-CGX6HR_EP",
        "outputId": "d8978427-3ecc-43ef-e357-59a289e0b308"
      },
      "outputs": [
        {
          "output_type": "stream",
          "name": "stdout",
          "text": [
            "Training avg loss =  tensor(3.4657, device='cuda:0', grad_fn=<DivBackward0>)\n",
            "Test avg loss =  tensor(3.5793, device='cuda:0')\n",
            "Training avg loss =  tensor(3.4632, device='cuda:0', grad_fn=<DivBackward0>)\n",
            "Test avg loss =  tensor(3.5749, device='cuda:0')\n",
            "Training avg loss =  tensor(3.4584, device='cuda:0', grad_fn=<DivBackward0>)\n",
            "Test avg loss =  tensor(3.5590, device='cuda:0')\n",
            "Training avg loss =  tensor(3.4018, device='cuda:0', grad_fn=<DivBackward0>)\n",
            "Test avg loss =  tensor(3.2593, device='cuda:0')\n",
            "Training avg loss =  tensor(3.1819, device='cuda:0', grad_fn=<DivBackward0>)\n",
            "Test avg loss =  tensor(3.1948, device='cuda:0')\n",
            "Training avg loss =  tensor(3.1381, device='cuda:0', grad_fn=<DivBackward0>)\n",
            "Test avg loss =  tensor(3.1868, device='cuda:0')\n",
            "Training avg loss =  tensor(3.1158, device='cuda:0', grad_fn=<DivBackward0>)\n",
            "Test avg loss =  tensor(3.1616, device='cuda:0')\n",
            "Training avg loss =  tensor(3.0862, device='cuda:0', grad_fn=<DivBackward0>)\n",
            "Test avg loss =  tensor(3.1546, device='cuda:0')\n",
            "Training avg loss =  tensor(3.0705, device='cuda:0', grad_fn=<DivBackward0>)\n",
            "Test avg loss =  tensor(3.1466, device='cuda:0')\n",
            "Training avg loss =  tensor(3.0634, device='cuda:0', grad_fn=<DivBackward0>)\n",
            "Test avg loss =  tensor(3.1459, device='cuda:0')\n",
            "Training avg loss =  tensor(3.0566, device='cuda:0', grad_fn=<DivBackward0>)\n",
            "Test avg loss =  tensor(3.1398, device='cuda:0')\n",
            "Training avg loss =  tensor(3.0356, device='cuda:0', grad_fn=<DivBackward0>)\n",
            "Test avg loss =  tensor(3.0700, device='cuda:0')\n",
            "Training avg loss =  tensor(3.0119, device='cuda:0', grad_fn=<DivBackward0>)\n",
            "Test avg loss =  tensor(3.0547, device='cuda:0')\n",
            "Training avg loss =  tensor(2.9916, device='cuda:0', grad_fn=<DivBackward0>)\n",
            "Test avg loss =  tensor(3.0446, device='cuda:0')\n",
            "Training avg loss =  tensor(2.9740, device='cuda:0', grad_fn=<DivBackward0>)\n",
            "Test avg loss =  tensor(3.0363, device='cuda:0')\n",
            "Training avg loss =  tensor(2.9582, device='cuda:0', grad_fn=<DivBackward0>)\n",
            "Test avg loss =  tensor(3.0212, device='cuda:0')\n",
            "Training avg loss =  tensor(2.9393, device='cuda:0', grad_fn=<DivBackward0>)\n",
            "Test avg loss =  tensor(3.0173, device='cuda:0')\n",
            "Training avg loss =  tensor(2.9361, device='cuda:0', grad_fn=<DivBackward0>)\n",
            "Test avg loss =  tensor(3.0018, device='cuda:0')\n",
            "Training avg loss =  tensor(2.9285, device='cuda:0', grad_fn=<DivBackward0>)\n",
            "Test avg loss =  tensor(3.0037, device='cuda:0')\n",
            "Training avg loss =  tensor(2.9264, device='cuda:0', grad_fn=<DivBackward0>)\n",
            "Test avg loss =  tensor(2.9944, device='cuda:0')\n",
            "Training avg loss =  tensor(2.9263, device='cuda:0', grad_fn=<DivBackward0>)\n",
            "Test avg loss =  tensor(3.0086, device='cuda:0')\n",
            "Training avg loss =  tensor(2.9304, device='cuda:0', grad_fn=<DivBackward0>)\n",
            "Test avg loss =  tensor(3.0055, device='cuda:0')\n",
            "Training avg loss =  tensor(2.9274, device='cuda:0', grad_fn=<DivBackward0>)\n",
            "Test avg loss =  tensor(2.9917, device='cuda:0')\n",
            "Training avg loss =  tensor(2.9248, device='cuda:0', grad_fn=<DivBackward0>)\n",
            "Test avg loss =  tensor(3.0121, device='cuda:0')\n",
            "Training avg loss =  tensor(2.9223, device='cuda:0', grad_fn=<DivBackward0>)\n",
            "Test avg loss =  tensor(2.9884, device='cuda:0')\n",
            "Training avg loss =  tensor(2.9167, device='cuda:0', grad_fn=<DivBackward0>)\n",
            "Test avg loss =  tensor(2.9858, device='cuda:0')\n",
            "Training avg loss =  tensor(2.9182, device='cuda:0', grad_fn=<DivBackward0>)\n",
            "Test avg loss =  tensor(2.9908, device='cuda:0')\n",
            "Training avg loss =  tensor(2.9187, device='cuda:0', grad_fn=<DivBackward0>)\n",
            "Test avg loss =  tensor(2.9868, device='cuda:0')\n",
            "Training avg loss =  tensor(2.9172, device='cuda:0', grad_fn=<DivBackward0>)\n",
            "Test avg loss =  tensor(2.9894, device='cuda:0')\n",
            "Training avg loss =  tensor(2.9150, device='cuda:0', grad_fn=<DivBackward0>)\n",
            "Test avg loss =  tensor(2.9839, device='cuda:0')\n",
            "Training avg loss =  tensor(2.9129, device='cuda:0', grad_fn=<DivBackward0>)\n",
            "Test avg loss =  tensor(2.9903, device='cuda:0')\n",
            "Training avg loss =  tensor(2.9097, device='cuda:0', grad_fn=<DivBackward0>)\n",
            "Test avg loss =  tensor(2.9870, device='cuda:0')\n",
            "Training avg loss =  tensor(2.9097, device='cuda:0', grad_fn=<DivBackward0>)\n",
            "Test avg loss =  tensor(2.9861, device='cuda:0')\n",
            "Training avg loss =  tensor(2.9087, device='cuda:0', grad_fn=<DivBackward0>)\n",
            "Test avg loss =  tensor(2.9842, device='cuda:0')\n",
            "Training avg loss =  tensor(2.9093, device='cuda:0', grad_fn=<DivBackward0>)\n",
            "Test avg loss =  tensor(2.9863, device='cuda:0')\n",
            "Training avg loss =  tensor(2.9097, device='cuda:0', grad_fn=<DivBackward0>)\n",
            "Test avg loss =  tensor(2.9842, device='cuda:0')\n",
            "Training avg loss =  tensor(2.9081, device='cuda:0', grad_fn=<DivBackward0>)\n",
            "Test avg loss =  tensor(2.9907, device='cuda:0')\n",
            "Training avg loss =  tensor(2.9063, device='cuda:0', grad_fn=<DivBackward0>)\n",
            "Test avg loss =  tensor(2.9991, device='cuda:0')\n",
            "Training avg loss =  tensor(2.8998, device='cuda:0', grad_fn=<DivBackward0>)\n",
            "Test avg loss =  tensor(2.9929, device='cuda:0')\n",
            "Training avg loss =  tensor(2.8895, device='cuda:0', grad_fn=<DivBackward0>)\n",
            "Test avg loss =  tensor(2.9622, device='cuda:0')\n",
            "Training avg loss =  tensor(2.8789, device='cuda:0', grad_fn=<DivBackward0>)\n",
            "Test avg loss =  tensor(2.9630, device='cuda:0')\n",
            "Training avg loss =  tensor(2.8818, device='cuda:0', grad_fn=<DivBackward0>)\n",
            "Test avg loss =  tensor(3.0039, device='cuda:0')\n",
            "Training avg loss =  tensor(2.8785, device='cuda:0', grad_fn=<DivBackward0>)\n",
            "Test avg loss =  tensor(2.9697, device='cuda:0')\n",
            "Training avg loss =  tensor(2.8735, device='cuda:0', grad_fn=<DivBackward0>)\n",
            "Test avg loss =  tensor(2.9662, device='cuda:0')\n",
            "Training avg loss =  tensor(2.8683, device='cuda:0', grad_fn=<DivBackward0>)\n",
            "Test avg loss =  tensor(2.9659, device='cuda:0')\n",
            "Training avg loss =  tensor(2.8655, device='cuda:0', grad_fn=<DivBackward0>)\n",
            "Test avg loss =  tensor(2.9819, device='cuda:0')\n",
            "Training avg loss =  tensor(2.8663, device='cuda:0', grad_fn=<DivBackward0>)\n",
            "Test avg loss =  tensor(2.9598, device='cuda:0')\n",
            "Training avg loss =  tensor(2.8622, device='cuda:0', grad_fn=<DivBackward0>)\n",
            "Test avg loss =  tensor(2.9594, device='cuda:0')\n",
            "Training avg loss =  tensor(2.8632, device='cuda:0', grad_fn=<DivBackward0>)\n",
            "Test avg loss =  tensor(2.9568, device='cuda:0')\n",
            "Training avg loss =  tensor(2.8595, device='cuda:0', grad_fn=<DivBackward0>)\n",
            "Test avg loss =  tensor(2.9574, device='cuda:0')\n",
            "Training avg loss =  tensor(2.8602, device='cuda:0', grad_fn=<DivBackward0>)\n",
            "Test avg loss =  tensor(2.9721, device='cuda:0')\n",
            "Training avg loss =  tensor(2.8630, device='cuda:0', grad_fn=<DivBackward0>)\n",
            "Test avg loss =  tensor(2.9682, device='cuda:0')\n",
            "Training avg loss =  tensor(2.8592, device='cuda:0', grad_fn=<DivBackward0>)\n",
            "Test avg loss =  tensor(2.9544, device='cuda:0')\n",
            "Training avg loss =  tensor(2.8560, device='cuda:0', grad_fn=<DivBackward0>)\n",
            "Test avg loss =  tensor(2.9826, device='cuda:0')\n",
            "Training avg loss =  tensor(2.8539, device='cuda:0', grad_fn=<DivBackward0>)\n",
            "Test avg loss =  tensor(2.9490, device='cuda:0')\n",
            "Training avg loss =  tensor(2.8485, device='cuda:0', grad_fn=<DivBackward0>)\n",
            "Test avg loss =  tensor(2.9436, device='cuda:0')\n",
            "Training avg loss =  tensor(2.8515, device='cuda:0', grad_fn=<DivBackward0>)\n",
            "Test avg loss =  tensor(2.9463, device='cuda:0')\n",
            "Training avg loss =  tensor(2.8485, device='cuda:0', grad_fn=<DivBackward0>)\n",
            "Test avg loss =  tensor(2.9377, device='cuda:0')\n",
            "Training avg loss =  tensor(2.8475, device='cuda:0', grad_fn=<DivBackward0>)\n",
            "Test avg loss =  tensor(2.9364, device='cuda:0')\n",
            "Training avg loss =  tensor(2.8447, device='cuda:0', grad_fn=<DivBackward0>)\n",
            "Test avg loss =  tensor(3.0076, device='cuda:0')\n",
            "Training avg loss =  tensor(2.8455, device='cuda:0', grad_fn=<DivBackward0>)\n",
            "Test avg loss =  tensor(2.9331, device='cuda:0')\n",
            "Training avg loss =  tensor(2.8399, device='cuda:0', grad_fn=<DivBackward0>)\n",
            "Test avg loss =  tensor(2.9323, device='cuda:0')\n",
            "Training avg loss =  tensor(2.8382, device='cuda:0', grad_fn=<DivBackward0>)\n",
            "Test avg loss =  tensor(2.9249, device='cuda:0')\n",
            "Training avg loss =  tensor(2.8357, device='cuda:0', grad_fn=<DivBackward0>)\n",
            "Test avg loss =  tensor(2.9469, device='cuda:0')\n",
            "Training avg loss =  tensor(2.8337, device='cuda:0', grad_fn=<DivBackward0>)\n",
            "Test avg loss =  tensor(2.9350, device='cuda:0')\n",
            "Training avg loss =  tensor(2.8328, device='cuda:0', grad_fn=<DivBackward0>)\n",
            "Test avg loss =  tensor(2.9296, device='cuda:0')\n",
            "Training avg loss =  tensor(2.8300, device='cuda:0', grad_fn=<DivBackward0>)\n",
            "Test avg loss =  tensor(2.9441, device='cuda:0')\n",
            "Training avg loss =  tensor(2.8310, device='cuda:0', grad_fn=<DivBackward0>)\n",
            "Test avg loss =  tensor(2.9356, device='cuda:0')\n",
            "Training avg loss =  tensor(2.8281, device='cuda:0', grad_fn=<DivBackward0>)\n",
            "Test avg loss =  tensor(2.9401, device='cuda:0')\n",
            "Training avg loss =  tensor(2.8255, device='cuda:0', grad_fn=<DivBackward0>)\n",
            "Test avg loss =  tensor(2.9431, device='cuda:0')\n",
            "Training avg loss =  tensor(2.8212, device='cuda:0', grad_fn=<DivBackward0>)\n",
            "Test avg loss =  tensor(2.9211, device='cuda:0')\n",
            "Training avg loss =  tensor(2.8133, device='cuda:0', grad_fn=<DivBackward0>)\n",
            "Test avg loss =  tensor(2.9233, device='cuda:0')\n",
            "Training avg loss =  tensor(2.8150, device='cuda:0', grad_fn=<DivBackward0>)\n",
            "Test avg loss =  tensor(2.9291, device='cuda:0')\n",
            "Training avg loss =  tensor(2.8067, device='cuda:0', grad_fn=<DivBackward0>)\n",
            "Test avg loss =  tensor(2.9276, device='cuda:0')\n",
            "Training avg loss =  tensor(2.8051, device='cuda:0', grad_fn=<DivBackward0>)\n",
            "Test avg loss =  tensor(2.9280, device='cuda:0')\n",
            "Training avg loss =  tensor(2.8016, device='cuda:0', grad_fn=<DivBackward0>)\n",
            "Test avg loss =  tensor(2.9218, device='cuda:0')\n",
            "Training avg loss =  tensor(2.7994, device='cuda:0', grad_fn=<DivBackward0>)\n",
            "Test avg loss =  tensor(2.9369, device='cuda:0')\n",
            "Training avg loss =  tensor(2.7989, device='cuda:0', grad_fn=<DivBackward0>)\n",
            "Test avg loss =  tensor(2.9165, device='cuda:0')\n",
            "Training avg loss =  tensor(2.7951, device='cuda:0', grad_fn=<DivBackward0>)\n",
            "Test avg loss =  tensor(2.9147, device='cuda:0')\n",
            "Training avg loss =  tensor(2.7962, device='cuda:0', grad_fn=<DivBackward0>)\n",
            "Test avg loss =  tensor(2.9155, device='cuda:0')\n",
            "Training avg loss =  tensor(2.7956, device='cuda:0', grad_fn=<DivBackward0>)\n",
            "Test avg loss =  tensor(2.9266, device='cuda:0')\n",
            "Training avg loss =  tensor(2.7962, device='cuda:0', grad_fn=<DivBackward0>)\n",
            "Test avg loss =  tensor(2.9044, device='cuda:0')\n",
            "Training avg loss =  tensor(2.7909, device='cuda:0', grad_fn=<DivBackward0>)\n",
            "Test avg loss =  tensor(2.9057, device='cuda:0')\n",
            "Training avg loss =  tensor(2.7895, device='cuda:0', grad_fn=<DivBackward0>)\n",
            "Test avg loss =  tensor(2.9099, device='cuda:0')\n",
            "Training avg loss =  tensor(2.7892, device='cuda:0', grad_fn=<DivBackward0>)\n",
            "Test avg loss =  tensor(2.9079, device='cuda:0')\n",
            "Training avg loss =  tensor(2.7893, device='cuda:0', grad_fn=<DivBackward0>)\n",
            "Test avg loss =  tensor(2.9058, device='cuda:0')\n",
            "Training avg loss =  tensor(2.7905, device='cuda:0', grad_fn=<DivBackward0>)\n",
            "Test avg loss =  tensor(2.9079, device='cuda:0')\n",
            "Training avg loss =  tensor(2.7905, device='cuda:0', grad_fn=<DivBackward0>)\n",
            "Test avg loss =  tensor(2.9116, device='cuda:0')\n",
            "Training avg loss =  tensor(2.7893, device='cuda:0', grad_fn=<DivBackward0>)\n",
            "Test avg loss =  tensor(2.8974, device='cuda:0')\n",
            "Training avg loss =  tensor(2.7892, device='cuda:0', grad_fn=<DivBackward0>)\n",
            "Test avg loss =  tensor(2.9054, device='cuda:0')\n",
            "Training avg loss =  tensor(2.7875, device='cuda:0', grad_fn=<DivBackward0>)\n",
            "Test avg loss =  tensor(2.9008, device='cuda:0')\n",
            "Training avg loss =  tensor(2.7857, device='cuda:0', grad_fn=<DivBackward0>)\n",
            "Test avg loss =  tensor(2.9043, device='cuda:0')\n",
            "Training avg loss =  tensor(2.7876, device='cuda:0', grad_fn=<DivBackward0>)\n",
            "Test avg loss =  tensor(2.9080, device='cuda:0')\n",
            "Training avg loss =  tensor(2.7840, device='cuda:0', grad_fn=<DivBackward0>)\n",
            "Test avg loss =  tensor(2.9032, device='cuda:0')\n",
            "Training avg loss =  tensor(2.7858, device='cuda:0', grad_fn=<DivBackward0>)\n",
            "Test avg loss =  tensor(2.9015, device='cuda:0')\n",
            "Training avg loss =  tensor(2.7817, device='cuda:0', grad_fn=<DivBackward0>)\n",
            "Test avg loss =  tensor(2.8969, device='cuda:0')\n",
            "Training avg loss =  tensor(2.7829, device='cuda:0', grad_fn=<DivBackward0>)\n",
            "Test avg loss =  tensor(2.9068, device='cuda:0')\n",
            "Training avg loss =  tensor(2.7835, device='cuda:0', grad_fn=<DivBackward0>)\n",
            "Test avg loss =  tensor(2.8975, device='cuda:0')\n",
            "Training avg loss =  tensor(2.7784, device='cuda:0', grad_fn=<DivBackward0>)\n",
            "Test avg loss =  tensor(2.8929, device='cuda:0')\n",
            "Training avg loss =  tensor(2.7739, device='cuda:0', grad_fn=<DivBackward0>)\n",
            "Test avg loss =  tensor(2.8874, device='cuda:0')\n",
            "Training avg loss =  tensor(2.7713, device='cuda:0', grad_fn=<DivBackward0>)\n",
            "Test avg loss =  tensor(2.8819, device='cuda:0')\n",
            "Training avg loss =  tensor(2.7680, device='cuda:0', grad_fn=<DivBackward0>)\n",
            "Test avg loss =  tensor(2.8914, device='cuda:0')\n",
            "Training avg loss =  tensor(2.7668, device='cuda:0', grad_fn=<DivBackward0>)\n",
            "Test avg loss =  tensor(2.8851, device='cuda:0')\n",
            "Training avg loss =  tensor(2.7658, device='cuda:0', grad_fn=<DivBackward0>)\n",
            "Test avg loss =  tensor(2.8781, device='cuda:0')\n",
            "Training avg loss =  tensor(2.7630, device='cuda:0', grad_fn=<DivBackward0>)\n",
            "Test avg loss =  tensor(2.8799, device='cuda:0')\n",
            "Training avg loss =  tensor(2.7612, device='cuda:0', grad_fn=<DivBackward0>)\n",
            "Test avg loss =  tensor(2.8732, device='cuda:0')\n",
            "Training avg loss =  tensor(2.7554, device='cuda:0', grad_fn=<DivBackward0>)\n",
            "Test avg loss =  tensor(2.8780, device='cuda:0')\n",
            "Training avg loss =  tensor(2.7525, device='cuda:0', grad_fn=<DivBackward0>)\n",
            "Test avg loss =  tensor(2.8788, device='cuda:0')\n",
            "Training avg loss =  tensor(2.7504, device='cuda:0', grad_fn=<DivBackward0>)\n",
            "Test avg loss =  tensor(2.8756, device='cuda:0')\n",
            "Training avg loss =  tensor(2.7496, device='cuda:0', grad_fn=<DivBackward0>)\n",
            "Test avg loss =  tensor(2.8763, device='cuda:0')\n",
            "Training avg loss =  tensor(2.7471, device='cuda:0', grad_fn=<DivBackward0>)\n",
            "Test avg loss =  tensor(2.8774, device='cuda:0')\n",
            "Training avg loss =  tensor(2.7477, device='cuda:0', grad_fn=<DivBackward0>)\n",
            "Test avg loss =  tensor(2.8737, device='cuda:0')\n",
            "Training avg loss =  tensor(2.7443, device='cuda:0', grad_fn=<DivBackward0>)\n",
            "Test avg loss =  tensor(2.8733, device='cuda:0')\n",
            "Training avg loss =  tensor(2.7445, device='cuda:0', grad_fn=<DivBackward0>)\n",
            "Test avg loss =  tensor(2.8742, device='cuda:0')\n",
            "Training avg loss =  tensor(2.7439, device='cuda:0', grad_fn=<DivBackward0>)\n",
            "Test avg loss =  tensor(2.8647, device='cuda:0')\n",
            "Training avg loss =  tensor(2.7391, device='cuda:0', grad_fn=<DivBackward0>)\n",
            "Test avg loss =  tensor(2.8604, device='cuda:0')\n",
            "Training avg loss =  tensor(2.7317, device='cuda:0', grad_fn=<DivBackward0>)\n",
            "Test avg loss =  tensor(2.8451, device='cuda:0')\n",
            "Training avg loss =  tensor(2.7250, device='cuda:0', grad_fn=<DivBackward0>)\n",
            "Test avg loss =  tensor(2.8303, device='cuda:0')\n",
            "Training avg loss =  tensor(2.7179, device='cuda:0', grad_fn=<DivBackward0>)\n",
            "Test avg loss =  tensor(2.8348, device='cuda:0')\n",
            "Training avg loss =  tensor(2.7128, device='cuda:0', grad_fn=<DivBackward0>)\n",
            "Test avg loss =  tensor(2.8289, device='cuda:0')\n",
            "Training avg loss =  tensor(2.7095, device='cuda:0', grad_fn=<DivBackward0>)\n",
            "Test avg loss =  tensor(2.8253, device='cuda:0')\n",
            "Training avg loss =  tensor(2.7090, device='cuda:0', grad_fn=<DivBackward0>)\n",
            "Test avg loss =  tensor(2.8265, device='cuda:0')\n",
            "Training avg loss =  tensor(2.7099, device='cuda:0', grad_fn=<DivBackward0>)\n",
            "Test avg loss =  tensor(2.8264, device='cuda:0')\n",
            "Training avg loss =  tensor(2.7078, device='cuda:0', grad_fn=<DivBackward0>)\n",
            "Test avg loss =  tensor(2.8244, device='cuda:0')\n",
            "Training avg loss =  tensor(2.7057, device='cuda:0', grad_fn=<DivBackward0>)\n",
            "Test avg loss =  tensor(2.8183, device='cuda:0')\n",
            "Training avg loss =  tensor(2.7042, device='cuda:0', grad_fn=<DivBackward0>)\n",
            "Test avg loss =  tensor(2.8175, device='cuda:0')\n",
            "Training avg loss =  tensor(2.7012, device='cuda:0', grad_fn=<DivBackward0>)\n",
            "Test avg loss =  tensor(2.8244, device='cuda:0')\n",
            "Training avg loss =  tensor(2.6984, device='cuda:0', grad_fn=<DivBackward0>)\n",
            "Test avg loss =  tensor(2.8169, device='cuda:0')\n",
            "Training avg loss =  tensor(2.6956, device='cuda:0', grad_fn=<DivBackward0>)\n",
            "Test avg loss =  tensor(2.8176, device='cuda:0')\n",
            "Training avg loss =  tensor(2.6946, device='cuda:0', grad_fn=<DivBackward0>)\n",
            "Test avg loss =  tensor(2.8213, device='cuda:0')\n",
            "Training avg loss =  tensor(2.6908, device='cuda:0', grad_fn=<DivBackward0>)\n",
            "Test avg loss =  tensor(2.8186, device='cuda:0')\n",
            "Training avg loss =  tensor(2.6869, device='cuda:0', grad_fn=<DivBackward0>)\n",
            "Test avg loss =  tensor(2.8219, device='cuda:0')\n",
            "Training avg loss =  tensor(2.6879, device='cuda:0', grad_fn=<DivBackward0>)\n",
            "Test avg loss =  tensor(2.8217, device='cuda:0')\n",
            "Training avg loss =  tensor(2.6873, device='cuda:0', grad_fn=<DivBackward0>)\n",
            "Test avg loss =  tensor(2.8250, device='cuda:0')\n",
            "Training avg loss =  tensor(2.6869, device='cuda:0', grad_fn=<DivBackward0>)\n",
            "Test avg loss =  tensor(2.8169, device='cuda:0')\n",
            "Training avg loss =  tensor(2.6858, device='cuda:0', grad_fn=<DivBackward0>)\n",
            "Test avg loss =  tensor(2.8428, device='cuda:0')\n",
            "Training avg loss =  tensor(2.6843, device='cuda:0', grad_fn=<DivBackward0>)\n",
            "Test avg loss =  tensor(2.8197, device='cuda:0')\n",
            "Training avg loss =  tensor(2.6870, device='cuda:0', grad_fn=<DivBackward0>)\n",
            "Test avg loss =  tensor(2.8197, device='cuda:0')\n",
            "Training avg loss =  tensor(2.6876, device='cuda:0', grad_fn=<DivBackward0>)\n",
            "Test avg loss =  tensor(2.8182, device='cuda:0')\n",
            "Training avg loss =  tensor(2.6832, device='cuda:0', grad_fn=<DivBackward0>)\n",
            "Test avg loss =  tensor(2.8238, device='cuda:0')\n",
            "Training avg loss =  tensor(2.6821, device='cuda:0', grad_fn=<DivBackward0>)\n",
            "Test avg loss =  tensor(2.8172, device='cuda:0')\n",
            "Training avg loss =  tensor(2.6837, device='cuda:0', grad_fn=<DivBackward0>)\n",
            "Test avg loss =  tensor(2.8223, device='cuda:0')\n",
            "Training avg loss =  tensor(2.6817, device='cuda:0', grad_fn=<DivBackward0>)\n",
            "Test avg loss =  tensor(2.8176, device='cuda:0')\n",
            "Training avg loss =  tensor(2.6811, device='cuda:0', grad_fn=<DivBackward0>)\n",
            "Test avg loss =  tensor(2.8300, device='cuda:0')\n",
            "Training avg loss =  tensor(2.6798, device='cuda:0', grad_fn=<DivBackward0>)\n",
            "Test avg loss =  tensor(2.8150, device='cuda:0')\n",
            "Training avg loss =  tensor(2.6788, device='cuda:0', grad_fn=<DivBackward0>)\n",
            "Test avg loss =  tensor(2.8130, device='cuda:0')\n",
            "Training avg loss =  tensor(2.6777, device='cuda:0', grad_fn=<DivBackward0>)\n",
            "Test avg loss =  tensor(2.8445, device='cuda:0')\n",
            "Training avg loss =  tensor(2.6776, device='cuda:0', grad_fn=<DivBackward0>)\n",
            "Test avg loss =  tensor(2.8159, device='cuda:0')\n",
            "Training avg loss =  tensor(2.6759, device='cuda:0', grad_fn=<DivBackward0>)\n",
            "Test avg loss =  tensor(2.8123, device='cuda:0')\n",
            "Training avg loss =  tensor(2.6759, device='cuda:0', grad_fn=<DivBackward0>)\n",
            "Test avg loss =  tensor(2.8095, device='cuda:0')\n"
          ]
        }
      ],
      "source": [
        "training_all_loss = []\n",
        "validation_all_loss = []\n",
        "for epochs in range(hyperparam.epochs):\n",
        "    t_avg_loss = training(model)\n",
        "    training_all_loss.append(t_avg_loss.cpu().detach().numpy())\n",
        "    \n",
        "    d_avg_loss = validate(model)\n",
        "    validation_all_loss.append(d_avg_loss.cpu().detach().numpy())\n",
        "\n",
        "torch.save(model,'mymodel5.pth')"
      ]
    },
    {
      "cell_type": "code",
      "execution_count": 22,
      "id": "y4GaFOeGR_EP",
      "metadata": {
        "colab": {
          "base_uri": "https://localhost:8080/",
          "height": 404
        },
        "id": "y4GaFOeGR_EP",
        "outputId": "2376b91e-d642-46ca-c179-0f0aa0e1c20a"
      },
      "outputs": [
        {
          "output_type": "display_data",
          "data": {
            "text/plain": [
              "<Figure size 864x432 with 1 Axes>"
            ],
            "image/png": "[encoded data removed]"
          },
          "metadata": {
            "needs_background": "light"
          }
        }
      ],
      "source": [
        "import matplotlib.pyplot as plt\n",
        "# training_total_loss = [ i.detach().numpy() for i in training_all_loss]\n",
        "plt.figure(figsize = (12,6))\n",
        "plt.plot(range(len(validation_all_loss)),validation_all_loss)\n",
        "\n",
        "plt.plot(range(len(training_all_loss)),training_all_loss)\n",
        "plt.xlabel(\"epoch\")\n",
        "plt.ylabel(\"Loss\")\n",
        "plt.title('Training loss curve')\n",
        "plt.show()\n"
      ]
    },
    {
      "cell_type": "code",
      "execution_count": 23,
      "id": "s-Z12_csR_EQ",
      "metadata": {
        "colab": {
          "base_uri": "https://localhost:8080/",
          "height": 404
        },
        "id": "s-Z12_csR_EQ",
        "outputId": "2afcf066-e0d6-4659-d147-ab346e99e617"
      },
      "outputs": [
        {
          "output_type": "display_data",
          "data": {
            "text/plain": [
              "<Figure size 864x432 with 1 Axes>"
            ],
            "image/png": "[encoded data removed]"
          },
          "metadata": {
            "needs_background": "light"
          }
        }
      ],
      "source": [
        "import matplotlib.pyplot as plt\n",
        "# validation_total_loss = [ i.detach().numpy() for i in validation_all_loss]\n",
        "plt.figure(figsize = (12,6))\n",
        "plt.plot(range(len(validation_all_loss)),validation_all_loss)\n",
        "plt.xlabel(\"epoch\")\n",
        "plt.ylabel(\"Loss\")\n",
        "plt.title('Validation loss curve')\n",
        "plt.show()"
      ]
    },
    {
      "cell_type": "code",
      "execution_count": 24,
      "id": "ys7ckDxhR_ES",
      "metadata": {
        "colab": {
          "base_uri": "https://localhost:8080/"
        },
        "id": "ys7ckDxhR_ES",
        "outputId": "1d04136c-ddcd-47f5-e919-4c41601f474d"
      },
      "outputs": [
        {
          "output_type": "stream",
          "name": "stdout",
          "text": [
            "Training set: miou,maccuracy,accuracy:  (0.47516143849561615, 0.47516143849561615, 0.8427635118799303)\n",
            "Testing set: miou,maccuracy,accuracy:  (0.41360390064363706, 0.41360390064363706, 0.7952462901239807)\n"
          ]
        }
      ],
      "source": [
        "\n",
        "import torchvision.transforms as T\n",
        "\n",
        "        \n",
        "def calculate_metrics(model):\n",
        "\n",
        "    cal_metrics=calculate()\n",
        "    model.to(device)\n",
        "#     print(\"here\")\n",
        "    with torch.set_grad_enabled(False):\n",
        "        model.eval()\n",
        "#         print(\"here1\")\n",
        "        count=0\n",
        "        for batch,labels in train_gen:\n",
        "    #             print(\"here2\")\n",
        "            count+=1\n",
        "            batch=batch.float().to(device)\n",
        "#             batch = F.normalize(batch,mean=[0.485,0.456,0.406],std=[0.229,0.224,0.225])\n",
        "            predictions=model(batch)\n",
        "            predicted_masks=torch.argmax(predictions,dim=1).type(torch.float)\n",
        "            labels = labels.squeeze(1).to(device)\n",
        "            cal_metrics.add(predicted_masks.cpu(),labels.cpu()) \n",
        "        print(\"Training set: miou,maccuracy,accuracy: \",cal_metrics.calculate_accuracy())\n",
        "\n",
        "    cal_metrics_=calculate()\n",
        "    with torch.set_grad_enabled(False):\n",
        "        model.eval()\n",
        "#         print(\"here1\")\n",
        "        count=0\n",
        "        for batch,labels in test_gen:\n",
        "    #             print(\"here2\")\n",
        "            count+=1\n",
        "            batch=batch.float().to(device)\n",
        "#             batch = F.normalize(batch,mean=[0.485,0.456,0.406],std=[0.229,0.224,0.225])\n",
        "            predictions=model(batch)\n",
        "            predicted_masks=torch.argmax(predictions,dim=1).type(torch.float)\n",
        "            labels = labels.squeeze(1).to(device)\n",
        "            cal_metrics_.add(predicted_masks.cpu(),labels.cpu()) \n",
        "        print(\"Testing set: miou,maccuracy,accuracy: \",cal_metrics_.calculate_accuracy())\n",
        "\n",
        "calculate_metrics(model)"
      ]
    },
    {
      "cell_type": "code",
      "execution_count": null,
      "id": "4Pe4NcdoR_ES",
      "metadata": {
        "id": "4Pe4NcdoR_ES"
      },
      "outputs": [],
      "source": [
        "import torchvision.transforms.functional as F\n",
        "\n",
        "testing_total_loss=0\n",
        "testing_loss=0\n",
        "model.to(device)\n",
        "model.eval()\n",
        "print(\"here\")\n",
        "with torch.set_grad_enabled(False):\n",
        "    print(\"here1\")\n",
        "    for batch,labels in test_gen:\n",
        "#             print(\"here2\")\n",
        "        batch=batch.float().to(device)\n",
        "        labels=labels.float()\n",
        "#         labels = ((labels - labels.min()) * (1/(labels.max() - labels.min())*30))\n",
        "#         print(\"batch size\", batch.size())\n",
        "#             batch,label=Variable(batch,requires_grad=True),Variable(labels,requires_grad=True)\n",
        "#             print(batch,label)\n",
        "        predictions=model(batch)\n",
        "#             print(\"predictions\" ,predictions)\n",
        "#             print(\"predictions size\",predictions.size())\n",
        "#             print(\"norm_pred\",norm_pred.size())\n",
        "#         npred = torch.argmax(predictions.squeeze(),dim=1)\n",
        "        predictions = predictions.type(torch.FloatTensor)\n",
        "        npred = torch.nn.functional.softmax(predictions,dim =1).to(device)\n",
        "        print(\"np \", npred.size())\n",
        "        labels = labels.squeeze(1).to(device)\n",
        "\n",
        "        pred_loss = lossfunc(npred,labels.long()) \n",
        "#         testing_loss.append(pred_loss)\n",
        "        print(\"pred_loss\",pred_loss)\n",
        "#         print(\"batch[0]\",batch[0])\n",
        "        masks = [\n",
        "            npred[img_idx,sem_class_to_idx[cls]]\n",
        "            for img_idx in range(batch.shape[0])\n",
        "            for cls in classes]\n",
        "        break"
      ]
    },
    {
      "cell_type": "code",
      "execution_count": null,
      "id": "fLfZck3cR_ET",
      "metadata": {
        "id": "fLfZck3cR_ET"
      },
      "outputs": [],
      "source": [
        "\n",
        "import matplotlib.pyplot as plt\n",
        "def show(imgs,Image_number,number):\n",
        "    if not isinstance(imgs, list):\n",
        "        imgs = [imgs]\n",
        "    fix, axs = plt.subplots(ncols=len(imgs), squeeze=False)\n",
        "    for i, img in enumerate(imgs):\n",
        "        img = img.detach()\n",
        "        img = F.to_pil_image(img)\n",
        "        axs[0,i].set_title(\"image number: \"+str(Image_number)+\"mask: \"+str(number))\n",
        "        axs[0, i].imshow(np.asarray(img))\n",
        "        axs[0, i].set(xticklabels=[], yticklabels=[], xticks=[], yticks=[])\n",
        "Image_num = 0\n",
        "num = 0        \n",
        "for mask in masks:\n",
        "    if num>30:\n",
        "        num = 0\n",
        "        Image_num +=1\n",
        "#     print(i)\n",
        "    show(mask,Image_num,num)\n",
        "    num+=1\n",
        "    \n",
        "# show(masks)"
      ]
    },
    {
      "cell_type": "code",
      "execution_count": 27,
      "id": "_DYAplCnR_ET",
      "metadata": {
        "colab": {
          "base_uri": "https://localhost:8080/",
          "height": 273
        },
        "id": "_DYAplCnR_ET",
        "outputId": "f33050f0-9a92-422f-b5b1-39d6556eda20"
      },
      "outputs": [
        {
          "data": {
            "image/png": "[encoded data removed]",
            "text/plain": [
              "<PIL.Image.Image image mode=L size=256x256 at 0x7F301F447D90>"
            ]
          },
          "execution_count": null,
          "metadata": {},
          "output_type": "execute_result"
        }
      ],
      "source": [
        "import torchvision.transforms as T\n",
        "\n",
        "transform = T.ToPILImage()\n",
        "image = transform(labels[15].float())\n",
        "image"
      ]
    }
  ],
  "metadata": {
    "accelerator": "GPU",
    "colab": {
      "collapsed_sections": [],
      "name": "deeplab_resnet50_final.ipynb",
      "provenance": [],
      "include_colab_link": true
    },
    "kernelspec": {
      "display_name": "Python 3 (ipykernel)",
      "language": "python",
      "name": "python3"
    },
    "language_info": {
      "codemirror_mode": {
        "name": "ipython",
        "version": 3
      },
      "file_extension": ".py",
      "mimetype": "text/x-python",
      "name": "python",
      "nbconvert_exporter": "python",
      "pygments_lexer": "ipython3",
      "version": "3.7.11"
    },
    "widgets": {
      "application/vnd.jupyter.widget-state+json": {
        "c22449a7a14d43beb1bb7717b51bd1a4": {
          "model_module": "@jupyter-widgets/controls",
          "model_name": "HBoxModel",
          "model_module_version": "1.5.0",
          "state": {
            "_dom_classes": [],
            "_model_module": "@jupyter-widgets/controls",
            "_model_module_version": "1.5.0",
            "_model_name": "HBoxModel",
            "_view_count": null,
            "_view_module": "@jupyter-widgets/controls",
            "_view_module_version": "1.5.0",
            "_view_name": "HBoxView",
            "box_style": "",
            "children": [
              "IPY_MODEL_40d4f9246e3b4574807d1dfd8325a7df",
              "IPY_MODEL_56403cf3e4ee453e9cf7fc6b17b07599",
              "IPY_MODEL_0d243387ea9e4dadaf0750c12a83772f"
            ],
            "layout": "IPY_MODEL_e792689f47aa4a9f9b6731155f2a34b2"
          }
        },
        "40d4f9246e3b4574807d1dfd8325a7df": {
          "model_module": "@jupyter-widgets/controls",
          "model_name": "HTMLModel",
          "model_module_version": "1.5.0",
          "state": {
            "_dom_classes": [],
            "_model_module": "@jupyter-widgets/controls",
            "_model_module_version": "1.5.0",
            "_model_name": "HTMLModel",
            "_view_count": null,
            "_view_module": "@jupyter-widgets/controls",
            "_view_module_version": "1.5.0",
            "_view_name": "HTMLView",
            "description": "",
            "description_tooltip": null,
            "layout": "IPY_MODEL_c13142b4b1f04d1bad0a53847eeab835",
            "placeholder": "​",
            "style": "IPY_MODEL_397c39725c1840de93899dcec6648cb6",
            "value": "100%"
          }
        },
        "56403cf3e4ee453e9cf7fc6b17b07599": {
          "model_module": "@jupyter-widgets/controls",
          "model_name": "FloatProgressModel",
          "model_module_version": "1.5.0",
          "state": {
            "_dom_classes": [],
            "_model_module": "@jupyter-widgets/controls",
            "_model_module_version": "1.5.0",
            "_model_name": "FloatProgressModel",
            "_view_count": null,
            "_view_module": "@jupyter-widgets/controls",
            "_view_module_version": "1.5.0",
            "_view_name": "ProgressView",
            "bar_style": "success",
            "description": "",
            "description_tooltip": null,
            "layout": "IPY_MODEL_fb0b594fb3dc49439abffb5e5a4ff293",
            "max": 168312152,
            "min": 0,
            "orientation": "horizontal",
            "style": "IPY_MODEL_ff76a1da28f34e238e0bbd604901b4c1",
            "value": 168312152
          }
        },
        "0d243387ea9e4dadaf0750c12a83772f": {
          "model_module": "@jupyter-widgets/controls",
          "model_name": "HTMLModel",
          "model_module_version": "1.5.0",
          "state": {
            "_dom_classes": [],
            "_model_module": "@jupyter-widgets/controls",
            "_model_module_version": "1.5.0",
            "_model_name": "HTMLModel",
            "_view_count": null,
            "_view_module": "@jupyter-widgets/controls",
            "_view_module_version": "1.5.0",
            "_view_name": "HTMLView",
            "description": "",
            "description_tooltip": null,
            "layout": "IPY_MODEL_00d0e13c09a64fe4be23bf087734c84d",
            "placeholder": "​",
            "style": "IPY_MODEL_d750ea3872b740d081d2dba4de5aa673",
            "value": " 161M/161M [00:01&lt;00:00, 108MB/s]"
          }
        },
        "e792689f47aa4a9f9b6731155f2a34b2": {
          "model_module": "@jupyter-widgets/base",
          "model_name": "LayoutModel",
          "model_module_version": "1.2.0",
          "state": {
            "_model_module": "@jupyter-widgets/base",
            "_model_module_version": "1.2.0",
            "_model_name": "LayoutModel",
            "_view_count": null,
            "_view_module": "@jupyter-widgets/base",
            "_view_module_version": "1.2.0",
            "_view_name": "LayoutView",
            "align_content": null,
            "align_items": null,
            "align_self": null,
            "border": null,
            "bottom": null,
            "display": null,
            "flex": null,
            "flex_flow": null,
            "grid_area": null,
            "grid_auto_columns": null,
            "grid_auto_flow": null,
            "grid_auto_rows": null,
            "grid_column": null,
            "grid_gap": null,
            "grid_row": null,
            "grid_template_areas": null,
            "grid_template_columns": null,
            "grid_template_rows": null,
            "height": null,
            "justify_content": null,
            "justify_items": null,
            "left": null,
            "margin": null,
            "max_height": null,
            "max_width": null,
            "min_height": null,
            "min_width": null,
            "object_fit": null,
            "object_position": null,
            "order": null,
            "overflow": null,
            "overflow_x": null,
            "overflow_y": null,
            "padding": null,
            "right": null,
            "top": null,
            "visibility": null,
            "width": null
          }
        },
        "c13142b4b1f04d1bad0a53847eeab835": {
          "model_module": "@jupyter-widgets/base",
          "model_name": "LayoutModel",
          "model_module_version": "1.2.0",
          "state": {
            "_model_module": "@jupyter-widgets/base",
            "_model_module_version": "1.2.0",
            "_model_name": "LayoutModel",
            "_view_count": null,
            "_view_module": "@jupyter-widgets/base",
            "_view_module_version": "1.2.0",
            "_view_name": "LayoutView",
            "align_content": null,
            "align_items": null,
            "align_self": null,
            "border": null,
            "bottom": null,
            "display": null,
            "flex": null,
            "flex_flow": null,
            "grid_area": null,
            "grid_auto_columns": null,
            "grid_auto_flow": null,
            "grid_auto_rows": null,
            "grid_column": null,
            "grid_gap": null,
            "grid_row": null,
            "grid_template_areas": null,
            "grid_template_columns": null,
            "grid_template_rows": null,
            "height": null,
            "justify_content": null,
            "justify_items": null,
            "left": null,
            "margin": null,
            "max_height": null,
            "max_width": null,
            "min_height": null,
            "min_width": null,
            "object_fit": null,
            "object_position": null,
            "order": null,
            "overflow": null,
            "overflow_x": null,
            "overflow_y": null,
            "padding": null,
            "right": null,
            "top": null,
            "visibility": null,
            "width": null
          }
        },
        "397c39725c1840de93899dcec6648cb6": {
          "model_module": "@jupyter-widgets/controls",
          "model_name": "DescriptionStyleModel",
          "model_module_version": "1.5.0",
          "state": {
            "_model_module": "@jupyter-widgets/controls",
            "_model_module_version": "1.5.0",
            "_model_name": "DescriptionStyleModel",
            "_view_count": null,
            "_view_module": "@jupyter-widgets/base",
            "_view_module_version": "1.2.0",
            "_view_name": "StyleView",
            "description_width": ""
          }
        },
        "fb0b594fb3dc49439abffb5e5a4ff293": {
          "model_module": "@jupyter-widgets/base",
          "model_name": "LayoutModel",
          "model_module_version": "1.2.0",
          "state": {
            "_model_module": "@jupyter-widgets/base",
            "_model_module_version": "1.2.0",
            "_model_name": "LayoutModel",
            "_view_count": null,
            "_view_module": "@jupyter-widgets/base",
            "_view_module_version": "1.2.0",
            "_view_name": "LayoutView",
            "align_content": null,
            "align_items": null,
            "align_self": null,
            "border": null,
            "bottom": null,
            "display": null,
            "flex": null,
            "flex_flow": null,
            "grid_area": null,
            "grid_auto_columns": null,
            "grid_auto_flow": null,
            "grid_auto_rows": null,
            "grid_column": null,
            "grid_gap": null,
            "grid_row": null,
            "grid_template_areas": null,
            "grid_template_columns": null,
            "grid_template_rows": null,
            "height": null,
            "justify_content": null,
            "justify_items": null,
            "left": null,
            "margin": null,
            "max_height": null,
            "max_width": null,
            "min_height": null,
            "min_width": null,
            "object_fit": null,
            "object_position": null,
            "order": null,
            "overflow": null,
            "overflow_x": null,
            "overflow_y": null,
            "padding": null,
            "right": null,
            "top": null,
            "visibility": null,
            "width": null
          }
        },
        "ff76a1da28f34e238e0bbd604901b4c1": {
          "model_module": "@jupyter-widgets/controls",
          "model_name": "ProgressStyleModel",
          "model_module_version": "1.5.0",
          "state": {
            "_model_module": "@jupyter-widgets/controls",
            "_model_module_version": "1.5.0",
            "_model_name": "ProgressStyleModel",
            "_view_count": null,
            "_view_module": "@jupyter-widgets/base",
            "_view_module_version": "1.2.0",
            "_view_name": "StyleView",
            "bar_color": null,
            "description_width": ""
          }
        },
        "00d0e13c09a64fe4be23bf087734c84d": {
          "model_module": "@jupyter-widgets/base",
          "model_name": "LayoutModel",
          "model_module_version": "1.2.0",
          "state": {
            "_model_module": "@jupyter-widgets/base",
            "_model_module_version": "1.2.0",
            "_model_name": "LayoutModel",
            "_view_count": null,
            "_view_module": "@jupyter-widgets/base",
            "_view_module_version": "1.2.0",
            "_view_name": "LayoutView",
            "align_content": null,
            "align_items": null,
            "align_self": null,
            "border": null,
            "bottom": null,
            "display": null,
            "flex": null,
            "flex_flow": null,
            "grid_area": null,
            "grid_auto_columns": null,
            "grid_auto_flow": null,
            "grid_auto_rows": null,
            "grid_column": null,
            "grid_gap": null,
            "grid_row": null,
            "grid_template_areas": null,
            "grid_template_columns": null,
            "grid_template_rows": null,
            "height": null,
            "justify_content": null,
            "justify_items": null,
            "left": null,
            "margin": null,
            "max_height": null,
            "max_width": null,
            "min_height": null,
            "min_width": null,
            "object_fit": null,
            "object_position": null,
            "order": null,
            "overflow": null,
            "overflow_x": null,
            "overflow_y": null,
            "padding": null,
            "right": null,
            "top": null,
            "visibility": null,
            "width": null
          }
        },
        "d750ea3872b740d081d2dba4de5aa673": {
          "model_module": "@jupyter-widgets/controls",
          "model_name": "DescriptionStyleModel",
          "model_module_version": "1.5.0",
          "state": {
            "_model_module": "@jupyter-widgets/controls",
            "_model_module_version": "1.5.0",
            "_model_name": "DescriptionStyleModel",
            "_view_count": null,
            "_view_module": "@jupyter-widgets/base",
            "_view_module_version": "1.2.0",
            "_view_name": "StyleView",
            "description_width": ""
          }
        }
      }
    }
  },
  "nbformat": 4,
  "nbformat_minor": 5
}